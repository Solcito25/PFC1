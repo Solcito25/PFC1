{
  "nbformat": 4,
  "nbformat_minor": 0,
  "metadata": {
    "colab": {
      "provenance": [],
      "authorship_tag": "ABX9TyNi9pQg6zmY9OYdwVtt2PUp",
      "include_colab_link": true
    },
    "kernelspec": {
      "name": "python3",
      "display_name": "Python 3"
    },
    "language_info": {
      "name": "python"
    },
    "accelerator": "GPU"
  },
  "cells": [
    {
      "cell_type": "markdown",
      "metadata": {
        "id": "view-in-github",
        "colab_type": "text"
      },
      "source": [
        "<a href=\"https://colab.research.google.com/github/Solcito25/PFC1/blob/main/PSR.ipynb\" target=\"_parent\"><img src=\"https://colab.research.google.com/assets/colab-badge.svg\" alt=\"Open In Colab\"/></a>"
      ]
    },
    {
      "cell_type": "code",
      "source": [
        "from google.colab import drive \n",
        "drive.mount('/content/drive')"
      ],
      "metadata": {
        "id": "hOx-87b21rY3",
        "colab": {
          "base_uri": "https://localhost:8080/"
        },
        "outputId": "1bedb910-949d-40a0-ad0c-ea36af3ffa35"
      },
      "execution_count": 1,
      "outputs": [
        {
          "output_type": "stream",
          "name": "stdout",
          "text": [
            "Drive already mounted at /content/drive; to attempt to forcibly remount, call drive.mount(\"/content/drive\", force_remount=True).\n"
          ]
        }
      ]
    },
    {
      "cell_type": "code",
      "source": [
        "\n",
        "!ls -l /content/drive/MyDrive/pyramid-super-resolution\n"
      ],
      "metadata": {
        "colab": {
          "base_uri": "https://localhost:8080/"
        },
        "id": "7ssjzoDBPQZc",
        "outputId": "5292f648-6fe7-4ea4-d99b-d23bd4f0d18d"
      },
      "execution_count": 2,
      "outputs": [
        {
          "output_type": "stream",
          "name": "stdout",
          "text": [
            "total 22\n",
            "drwx------ 2 root root 4096 Oct 27 02:13 config\n",
            "drwx------ 4 root root 4096 Oct 27 02:15 data\n",
            "drwx------ 5 root root 4096 Oct 27 02:15 models\n",
            "drwx------ 3 root root 4096 Oct 27 02:15 psr\n",
            "drwx------ 2 root root 4096 Oct 27 01:57 pyramid-super-resolution-main\n",
            "-rw------- 1 root root  124 Jul  9  2021 requirements.txt\n",
            "-rw------- 1 root root  754 Oct 26 05:37 setup.py\n"
          ]
        }
      ]
    },
    {
      "cell_type": "code",
      "source": [
        "%cd /content/drive/MyDrive/pyramid-super-resolution"
      ],
      "metadata": {
        "colab": {
          "base_uri": "https://localhost:8080/"
        },
        "id": "W-mVucwqAmql",
        "outputId": "2ebb9e3e-f99d-4056-c13e-7042c4848ff2"
      },
      "execution_count": 3,
      "outputs": [
        {
          "output_type": "stream",
          "name": "stdout",
          "text": [
            "/content/drive/MyDrive/pyramid-super-resolution\n"
          ]
        }
      ]
    },
    {
      "cell_type": "code",
      "source": [
        "!pip install -r requirements.txt"
      ],
      "metadata": {
        "id": "lTWX4czXkVUv",
        "colab": {
          "base_uri": "https://localhost:8080/"
        },
        "outputId": "81e4f3ec-62e2-4cc9-ab12-3732e980ca70"
      },
      "execution_count": 4,
      "outputs": [
        {
          "output_type": "stream",
          "name": "stdout",
          "text": [
            "Looking in indexes: https://pypi.org/simple, https://us-python.pkg.dev/colab-wheels/public/simple/\n",
            "Collecting git+https://github.com/thanhhungqb/outside_collection.git@v1.0.0 (from -r requirements.txt (line 1))\n",
            "  Cloning https://github.com/thanhhungqb/outside_collection.git (to revision v1.0.0) to /tmp/pip-req-build-4_1wuic3\n",
            "  Running command git clone -q https://github.com/thanhhungqb/outside_collection.git /tmp/pip-req-build-4_1wuic3\n",
            "  Running command git checkout -q ba44c68d28fdfb84f3838032f120d26e66011d20\n",
            "Collecting git+https://github.com/thanhhungqb/prlab_utils.git@v1.0.0 (from -r requirements.txt (line 2))\n",
            "  Cloning https://github.com/thanhhungqb/prlab_utils.git (to revision v1.0.0) to /tmp/pip-req-build-e44nfm3k\n",
            "  Running command git clone -q https://github.com/thanhhungqb/prlab_utils.git /tmp/pip-req-build-e44nfm3k\n",
            "  Running command git checkout -q 26b766b9a830c69957dea82dca8a47acdde74bdd\n",
            "Requirement already satisfied: numpy in /usr/local/lib/python3.7/dist-packages (from outside==1.0.0->-r requirements.txt (line 1)) (1.21.6)\n",
            "Requirement already satisfied: pandas in /usr/local/lib/python3.7/dist-packages (from outside==1.0.0->-r requirements.txt (line 1)) (1.3.5)\n",
            "Requirement already satisfied: scipy in /usr/local/lib/python3.7/dist-packages (from outside==1.0.0->-r requirements.txt (line 1)) (1.7.3)\n",
            "Requirement already satisfied: matplotlib in /usr/local/lib/python3.7/dist-packages (from outside==1.0.0->-r requirements.txt (line 1)) (3.2.2)\n",
            "Requirement already satisfied: torchvision in /usr/local/lib/python3.7/dist-packages (from outside==1.0.0->-r requirements.txt (line 1)) (0.7.0)\n",
            "Requirement already satisfied: scikit-learn in /usr/local/lib/python3.7/dist-packages (from outside==1.0.0->-r requirements.txt (line 1)) (1.0.2)\n",
            "Requirement already satisfied: openpyxl>=3.0.5 in /usr/local/lib/python3.7/dist-packages (from prlab==1.0.0->-r requirements.txt (line 2)) (3.0.10)\n",
            "Requirement already satisfied: nltk in /usr/local/lib/python3.7/dist-packages (from prlab==1.0.0->-r requirements.txt (line 2)) (3.7)\n",
            "Requirement already satisfied: deprecation in /usr/local/lib/python3.7/dist-packages (from prlab==1.0.0->-r requirements.txt (line 2)) (2.1.0)\n",
            "Requirement already satisfied: torch in /usr/local/lib/python3.7/dist-packages (from prlab==1.0.0->-r requirements.txt (line 2)) (1.6.0)\n",
            "Requirement already satisfied: fastai==1.0.61 in /usr/local/lib/python3.7/dist-packages (from prlab==1.0.0->-r requirements.txt (line 2)) (1.0.61)\n",
            "Requirement already satisfied: wandb in /usr/local/lib/python3.7/dist-packages (from prlab==1.0.0->-r requirements.txt (line 2)) (0.13.4)\n",
            "Requirement already satisfied: tabulate in /usr/local/lib/python3.7/dist-packages (from prlab==1.0.0->-r requirements.txt (line 2)) (0.8.10)\n",
            "Requirement already satisfied: requests in /usr/local/lib/python3.7/dist-packages (from fastai==1.0.61->prlab==1.0.0->-r requirements.txt (line 2)) (2.23.0)\n",
            "Requirement already satisfied: pyyaml in /usr/local/lib/python3.7/dist-packages (from fastai==1.0.61->prlab==1.0.0->-r requirements.txt (line 2)) (6.0)\n",
            "Requirement already satisfied: bottleneck in /usr/local/lib/python3.7/dist-packages (from fastai==1.0.61->prlab==1.0.0->-r requirements.txt (line 2)) (1.3.5)\n",
            "Requirement already satisfied: beautifulsoup4 in /usr/local/lib/python3.7/dist-packages (from fastai==1.0.61->prlab==1.0.0->-r requirements.txt (line 2)) (4.6.3)\n",
            "Requirement already satisfied: spacy>=2.0.18 in /usr/local/lib/python3.7/dist-packages (from fastai==1.0.61->prlab==1.0.0->-r requirements.txt (line 2)) (3.4.2)\n",
            "Requirement already satisfied: packaging in /usr/local/lib/python3.7/dist-packages (from fastai==1.0.61->prlab==1.0.0->-r requirements.txt (line 2)) (21.3)\n",
            "Requirement already satisfied: fastprogress>=0.2.1 in /usr/local/lib/python3.7/dist-packages (from fastai==1.0.61->prlab==1.0.0->-r requirements.txt (line 2)) (1.0.3)\n",
            "Requirement already satisfied: Pillow in /usr/local/lib/python3.7/dist-packages (from fastai==1.0.61->prlab==1.0.0->-r requirements.txt (line 2)) (7.1.2)\n",
            "Requirement already satisfied: numexpr in /usr/local/lib/python3.7/dist-packages (from fastai==1.0.61->prlab==1.0.0->-r requirements.txt (line 2)) (2.8.4)\n",
            "Requirement already satisfied: nvidia-ml-py3 in /usr/local/lib/python3.7/dist-packages (from fastai==1.0.61->prlab==1.0.0->-r requirements.txt (line 2)) (7.352.0)\n",
            "Requirement already satisfied: et-xmlfile in /usr/local/lib/python3.7/dist-packages (from openpyxl>=3.0.5->prlab==1.0.0->-r requirements.txt (line 2)) (1.1.0)\n",
            "Requirement already satisfied: langcodes<4.0.0,>=3.2.0 in /usr/local/lib/python3.7/dist-packages (from spacy>=2.0.18->fastai==1.0.61->prlab==1.0.0->-r requirements.txt (line 2)) (3.3.0)\n",
            "Requirement already satisfied: preshed<3.1.0,>=3.0.2 in /usr/local/lib/python3.7/dist-packages (from spacy>=2.0.18->fastai==1.0.61->prlab==1.0.0->-r requirements.txt (line 2)) (3.0.8)\n",
            "Requirement already satisfied: thinc<8.2.0,>=8.1.0 in /usr/local/lib/python3.7/dist-packages (from spacy>=2.0.18->fastai==1.0.61->prlab==1.0.0->-r requirements.txt (line 2)) (8.1.5)\n",
            "Requirement already satisfied: murmurhash<1.1.0,>=0.28.0 in /usr/local/lib/python3.7/dist-packages (from spacy>=2.0.18->fastai==1.0.61->prlab==1.0.0->-r requirements.txt (line 2)) (1.0.9)\n",
            "Requirement already satisfied: tqdm<5.0.0,>=4.38.0 in /usr/local/lib/python3.7/dist-packages (from spacy>=2.0.18->fastai==1.0.61->prlab==1.0.0->-r requirements.txt (line 2)) (4.64.1)\n",
            "Requirement already satisfied: typing-extensions<4.2.0,>=3.7.4 in /usr/local/lib/python3.7/dist-packages (from spacy>=2.0.18->fastai==1.0.61->prlab==1.0.0->-r requirements.txt (line 2)) (4.1.1)\n",
            "Requirement already satisfied: cymem<2.1.0,>=2.0.2 in /usr/local/lib/python3.7/dist-packages (from spacy>=2.0.18->fastai==1.0.61->prlab==1.0.0->-r requirements.txt (line 2)) (2.0.7)\n",
            "Requirement already satisfied: spacy-legacy<3.1.0,>=3.0.10 in /usr/local/lib/python3.7/dist-packages (from spacy>=2.0.18->fastai==1.0.61->prlab==1.0.0->-r requirements.txt (line 2)) (3.0.10)\n",
            "Requirement already satisfied: jinja2 in /usr/local/lib/python3.7/dist-packages (from spacy>=2.0.18->fastai==1.0.61->prlab==1.0.0->-r requirements.txt (line 2)) (2.11.3)\n",
            "Requirement already satisfied: typer<0.5.0,>=0.3.0 in /usr/local/lib/python3.7/dist-packages (from spacy>=2.0.18->fastai==1.0.61->prlab==1.0.0->-r requirements.txt (line 2)) (0.4.2)\n",
            "Requirement already satisfied: wasabi<1.1.0,>=0.9.1 in /usr/local/lib/python3.7/dist-packages (from spacy>=2.0.18->fastai==1.0.61->prlab==1.0.0->-r requirements.txt (line 2)) (0.10.1)\n",
            "Requirement already satisfied: pydantic!=1.8,!=1.8.1,<1.11.0,>=1.7.4 in /usr/local/lib/python3.7/dist-packages (from spacy>=2.0.18->fastai==1.0.61->prlab==1.0.0->-r requirements.txt (line 2)) (1.10.2)\n",
            "Requirement already satisfied: catalogue<2.1.0,>=2.0.6 in /usr/local/lib/python3.7/dist-packages (from spacy>=2.0.18->fastai==1.0.61->prlab==1.0.0->-r requirements.txt (line 2)) (2.0.8)\n",
            "Requirement already satisfied: setuptools in /usr/local/lib/python3.7/dist-packages (from spacy>=2.0.18->fastai==1.0.61->prlab==1.0.0->-r requirements.txt (line 2)) (57.4.0)\n",
            "Requirement already satisfied: spacy-loggers<2.0.0,>=1.0.0 in /usr/local/lib/python3.7/dist-packages (from spacy>=2.0.18->fastai==1.0.61->prlab==1.0.0->-r requirements.txt (line 2)) (1.0.3)\n",
            "Requirement already satisfied: srsly<3.0.0,>=2.4.3 in /usr/local/lib/python3.7/dist-packages (from spacy>=2.0.18->fastai==1.0.61->prlab==1.0.0->-r requirements.txt (line 2)) (2.4.5)\n",
            "Requirement already satisfied: pathy>=0.3.5 in /usr/local/lib/python3.7/dist-packages (from spacy>=2.0.18->fastai==1.0.61->prlab==1.0.0->-r requirements.txt (line 2)) (0.6.2)\n",
            "Requirement already satisfied: zipp>=0.5 in /usr/local/lib/python3.7/dist-packages (from catalogue<2.1.0,>=2.0.6->spacy>=2.0.18->fastai==1.0.61->prlab==1.0.0->-r requirements.txt (line 2)) (3.10.0)\n",
            "Requirement already satisfied: pyparsing!=3.0.5,>=2.0.2 in /usr/local/lib/python3.7/dist-packages (from packaging->fastai==1.0.61->prlab==1.0.0->-r requirements.txt (line 2)) (3.0.9)\n",
            "Requirement already satisfied: smart-open<6.0.0,>=5.2.1 in /usr/local/lib/python3.7/dist-packages (from pathy>=0.3.5->spacy>=2.0.18->fastai==1.0.61->prlab==1.0.0->-r requirements.txt (line 2)) (5.2.1)\n",
            "Requirement already satisfied: certifi>=2017.4.17 in /usr/local/lib/python3.7/dist-packages (from requests->fastai==1.0.61->prlab==1.0.0->-r requirements.txt (line 2)) (2022.9.24)\n",
            "Requirement already satisfied: chardet<4,>=3.0.2 in /usr/local/lib/python3.7/dist-packages (from requests->fastai==1.0.61->prlab==1.0.0->-r requirements.txt (line 2)) (3.0.4)\n",
            "Requirement already satisfied: urllib3!=1.25.0,!=1.25.1,<1.26,>=1.21.1 in /usr/local/lib/python3.7/dist-packages (from requests->fastai==1.0.61->prlab==1.0.0->-r requirements.txt (line 2)) (1.24.3)\n",
            "Requirement already satisfied: idna<3,>=2.5 in /usr/local/lib/python3.7/dist-packages (from requests->fastai==1.0.61->prlab==1.0.0->-r requirements.txt (line 2)) (2.10)\n",
            "Requirement already satisfied: confection<1.0.0,>=0.0.1 in /usr/local/lib/python3.7/dist-packages (from thinc<8.2.0,>=8.1.0->spacy>=2.0.18->fastai==1.0.61->prlab==1.0.0->-r requirements.txt (line 2)) (0.0.3)\n",
            "Requirement already satisfied: blis<0.8.0,>=0.7.8 in /usr/local/lib/python3.7/dist-packages (from thinc<8.2.0,>=8.1.0->spacy>=2.0.18->fastai==1.0.61->prlab==1.0.0->-r requirements.txt (line 2)) (0.7.9)\n",
            "Requirement already satisfied: future in /usr/local/lib/python3.7/dist-packages (from torch->prlab==1.0.0->-r requirements.txt (line 2)) (0.16.0)\n",
            "Requirement already satisfied: click<9.0.0,>=7.1.1 in /usr/local/lib/python3.7/dist-packages (from typer<0.5.0,>=0.3.0->spacy>=2.0.18->fastai==1.0.61->prlab==1.0.0->-r requirements.txt (line 2)) (7.1.2)\n",
            "Requirement already satisfied: MarkupSafe>=0.23 in /usr/local/lib/python3.7/dist-packages (from jinja2->spacy>=2.0.18->fastai==1.0.61->prlab==1.0.0->-r requirements.txt (line 2)) (2.0.1)\n",
            "Requirement already satisfied: python-dateutil>=2.1 in /usr/local/lib/python3.7/dist-packages (from matplotlib->outside==1.0.0->-r requirements.txt (line 1)) (2.8.2)\n",
            "Requirement already satisfied: cycler>=0.10 in /usr/local/lib/python3.7/dist-packages (from matplotlib->outside==1.0.0->-r requirements.txt (line 1)) (0.11.0)\n",
            "Requirement already satisfied: kiwisolver>=1.0.1 in /usr/local/lib/python3.7/dist-packages (from matplotlib->outside==1.0.0->-r requirements.txt (line 1)) (1.4.4)\n",
            "Requirement already satisfied: six>=1.5 in /usr/local/lib/python3.7/dist-packages (from python-dateutil>=2.1->matplotlib->outside==1.0.0->-r requirements.txt (line 1)) (1.15.0)\n",
            "Requirement already satisfied: regex>=2021.8.3 in /usr/local/lib/python3.7/dist-packages (from nltk->prlab==1.0.0->-r requirements.txt (line 2)) (2022.6.2)\n",
            "Requirement already satisfied: joblib in /usr/local/lib/python3.7/dist-packages (from nltk->prlab==1.0.0->-r requirements.txt (line 2)) (1.2.0)\n",
            "Requirement already satisfied: pytz>=2017.3 in /usr/local/lib/python3.7/dist-packages (from pandas->outside==1.0.0->-r requirements.txt (line 1)) (2022.5)\n",
            "Requirement already satisfied: threadpoolctl>=2.0.0 in /usr/local/lib/python3.7/dist-packages (from scikit-learn->outside==1.0.0->-r requirements.txt (line 1)) (3.1.0)\n",
            "Requirement already satisfied: GitPython>=1.0.0 in /usr/local/lib/python3.7/dist-packages (from wandb->prlab==1.0.0->-r requirements.txt (line 2)) (3.1.29)\n",
            "Requirement already satisfied: protobuf!=4.0.*,!=4.21.0,<5,>=3.12.0 in /usr/local/lib/python3.7/dist-packages (from wandb->prlab==1.0.0->-r requirements.txt (line 2)) (3.17.3)\n",
            "Requirement already satisfied: docker-pycreds>=0.4.0 in /usr/local/lib/python3.7/dist-packages (from wandb->prlab==1.0.0->-r requirements.txt (line 2)) (0.4.0)\n",
            "Requirement already satisfied: psutil>=5.0.0 in /usr/local/lib/python3.7/dist-packages (from wandb->prlab==1.0.0->-r requirements.txt (line 2)) (5.4.8)\n",
            "Requirement already satisfied: pathtools in /usr/local/lib/python3.7/dist-packages (from wandb->prlab==1.0.0->-r requirements.txt (line 2)) (0.1.2)\n",
            "Requirement already satisfied: shortuuid>=0.5.0 in /usr/local/lib/python3.7/dist-packages (from wandb->prlab==1.0.0->-r requirements.txt (line 2)) (1.0.9)\n",
            "Requirement already satisfied: sentry-sdk>=1.0.0 in /usr/local/lib/python3.7/dist-packages (from wandb->prlab==1.0.0->-r requirements.txt (line 2)) (1.9.0)\n",
            "Requirement already satisfied: setproctitle in /usr/local/lib/python3.7/dist-packages (from wandb->prlab==1.0.0->-r requirements.txt (line 2)) (1.3.2)\n",
            "Requirement already satisfied: promise<3,>=2.0 in /usr/local/lib/python3.7/dist-packages (from wandb->prlab==1.0.0->-r requirements.txt (line 2)) (2.3)\n",
            "Requirement already satisfied: gitdb<5,>=4.0.1 in /usr/local/lib/python3.7/dist-packages (from GitPython>=1.0.0->wandb->prlab==1.0.0->-r requirements.txt (line 2)) (4.0.9)\n",
            "Requirement already satisfied: smmap<6,>=3.0.1 in /usr/local/lib/python3.7/dist-packages (from gitdb<5,>=4.0.1->GitPython>=1.0.0->wandb->prlab==1.0.0->-r requirements.txt (line 2)) (5.0.0)\n"
          ]
        }
      ]
    },
    {
      "cell_type": "code",
      "source": [
        "!pip freeze\n"
      ],
      "metadata": {
        "id": "Gw33E9i-ldsn"
      },
      "execution_count": null,
      "outputs": []
    },
    {
      "cell_type": "code",
      "source": [
        "!pip install torch==1.6.0 torchvision==0.7.0"
      ],
      "metadata": {
        "colab": {
          "base_uri": "https://localhost:8080/"
        },
        "id": "vrHK1hnnz4UL",
        "outputId": "40316e4d-f8c3-46ab-901a-797dd1aedb60"
      },
      "execution_count": 5,
      "outputs": [
        {
          "output_type": "stream",
          "name": "stdout",
          "text": [
            "Looking in indexes: https://pypi.org/simple, https://us-python.pkg.dev/colab-wheels/public/simple/\n",
            "Requirement already satisfied: torch==1.6.0 in /usr/local/lib/python3.7/dist-packages (1.6.0)\n",
            "Requirement already satisfied: torchvision==0.7.0 in /usr/local/lib/python3.7/dist-packages (0.7.0)\n",
            "Requirement already satisfied: future in /usr/local/lib/python3.7/dist-packages (from torch==1.6.0) (0.16.0)\n",
            "Requirement already satisfied: numpy in /usr/local/lib/python3.7/dist-packages (from torch==1.6.0) (1.21.6)\n",
            "Requirement already satisfied: pillow>=4.1.1 in /usr/local/lib/python3.7/dist-packages (from torchvision==0.7.0) (7.1.2)\n"
          ]
        }
      ]
    },
    {
      "cell_type": "code",
      "source": [
        "!pip install fastai==1.0.61"
      ],
      "metadata": {
        "id": "BzqyVaXO0S8o",
        "colab": {
          "base_uri": "https://localhost:8080/"
        },
        "outputId": "532510b3-55b7-405f-d393-7dc97b9e535a"
      },
      "execution_count": 6,
      "outputs": [
        {
          "output_type": "stream",
          "name": "stdout",
          "text": [
            "Looking in indexes: https://pypi.org/simple, https://us-python.pkg.dev/colab-wheels/public/simple/\n",
            "Requirement already satisfied: fastai==1.0.61 in /usr/local/lib/python3.7/dist-packages (1.0.61)\n",
            "Requirement already satisfied: numpy>=1.15 in /usr/local/lib/python3.7/dist-packages (from fastai==1.0.61) (1.21.6)\n",
            "Requirement already satisfied: fastprogress>=0.2.1 in /usr/local/lib/python3.7/dist-packages (from fastai==1.0.61) (1.0.3)\n",
            "Requirement already satisfied: torch>=1.0.0 in /usr/local/lib/python3.7/dist-packages (from fastai==1.0.61) (1.6.0)\n",
            "Requirement already satisfied: scipy in /usr/local/lib/python3.7/dist-packages (from fastai==1.0.61) (1.7.3)\n",
            "Requirement already satisfied: nvidia-ml-py3 in /usr/local/lib/python3.7/dist-packages (from fastai==1.0.61) (7.352.0)\n",
            "Requirement already satisfied: bottleneck in /usr/local/lib/python3.7/dist-packages (from fastai==1.0.61) (1.3.5)\n",
            "Requirement already satisfied: packaging in /usr/local/lib/python3.7/dist-packages (from fastai==1.0.61) (21.3)\n",
            "Requirement already satisfied: matplotlib in /usr/local/lib/python3.7/dist-packages (from fastai==1.0.61) (3.2.2)\n",
            "Requirement already satisfied: beautifulsoup4 in /usr/local/lib/python3.7/dist-packages (from fastai==1.0.61) (4.6.3)\n",
            "Requirement already satisfied: Pillow in /usr/local/lib/python3.7/dist-packages (from fastai==1.0.61) (7.1.2)\n",
            "Requirement already satisfied: requests in /usr/local/lib/python3.7/dist-packages (from fastai==1.0.61) (2.23.0)\n",
            "Requirement already satisfied: pandas in /usr/local/lib/python3.7/dist-packages (from fastai==1.0.61) (1.3.5)\n",
            "Requirement already satisfied: torchvision in /usr/local/lib/python3.7/dist-packages (from fastai==1.0.61) (0.7.0)\n",
            "Requirement already satisfied: numexpr in /usr/local/lib/python3.7/dist-packages (from fastai==1.0.61) (2.8.4)\n",
            "Requirement already satisfied: pyyaml in /usr/local/lib/python3.7/dist-packages (from fastai==1.0.61) (6.0)\n",
            "Requirement already satisfied: spacy>=2.0.18 in /usr/local/lib/python3.7/dist-packages (from fastai==1.0.61) (3.4.2)\n",
            "Requirement already satisfied: setuptools in /usr/local/lib/python3.7/dist-packages (from spacy>=2.0.18->fastai==1.0.61) (57.4.0)\n",
            "Requirement already satisfied: jinja2 in /usr/local/lib/python3.7/dist-packages (from spacy>=2.0.18->fastai==1.0.61) (2.11.3)\n",
            "Requirement already satisfied: typer<0.5.0,>=0.3.0 in /usr/local/lib/python3.7/dist-packages (from spacy>=2.0.18->fastai==1.0.61) (0.4.2)\n",
            "Requirement already satisfied: catalogue<2.1.0,>=2.0.6 in /usr/local/lib/python3.7/dist-packages (from spacy>=2.0.18->fastai==1.0.61) (2.0.8)\n",
            "Requirement already satisfied: srsly<3.0.0,>=2.4.3 in /usr/local/lib/python3.7/dist-packages (from spacy>=2.0.18->fastai==1.0.61) (2.4.5)\n",
            "Requirement already satisfied: pathy>=0.3.5 in /usr/local/lib/python3.7/dist-packages (from spacy>=2.0.18->fastai==1.0.61) (0.6.2)\n",
            "Requirement already satisfied: tqdm<5.0.0,>=4.38.0 in /usr/local/lib/python3.7/dist-packages (from spacy>=2.0.18->fastai==1.0.61) (4.64.1)\n",
            "Requirement already satisfied: preshed<3.1.0,>=3.0.2 in /usr/local/lib/python3.7/dist-packages (from spacy>=2.0.18->fastai==1.0.61) (3.0.8)\n",
            "Requirement already satisfied: murmurhash<1.1.0,>=0.28.0 in /usr/local/lib/python3.7/dist-packages (from spacy>=2.0.18->fastai==1.0.61) (1.0.9)\n",
            "Requirement already satisfied: langcodes<4.0.0,>=3.2.0 in /usr/local/lib/python3.7/dist-packages (from spacy>=2.0.18->fastai==1.0.61) (3.3.0)\n",
            "Requirement already satisfied: thinc<8.2.0,>=8.1.0 in /usr/local/lib/python3.7/dist-packages (from spacy>=2.0.18->fastai==1.0.61) (8.1.5)\n",
            "Requirement already satisfied: typing-extensions<4.2.0,>=3.7.4 in /usr/local/lib/python3.7/dist-packages (from spacy>=2.0.18->fastai==1.0.61) (4.1.1)\n",
            "Requirement already satisfied: pydantic!=1.8,!=1.8.1,<1.11.0,>=1.7.4 in /usr/local/lib/python3.7/dist-packages (from spacy>=2.0.18->fastai==1.0.61) (1.10.2)\n",
            "Requirement already satisfied: cymem<2.1.0,>=2.0.2 in /usr/local/lib/python3.7/dist-packages (from spacy>=2.0.18->fastai==1.0.61) (2.0.7)\n",
            "Requirement already satisfied: spacy-legacy<3.1.0,>=3.0.10 in /usr/local/lib/python3.7/dist-packages (from spacy>=2.0.18->fastai==1.0.61) (3.0.10)\n",
            "Requirement already satisfied: spacy-loggers<2.0.0,>=1.0.0 in /usr/local/lib/python3.7/dist-packages (from spacy>=2.0.18->fastai==1.0.61) (1.0.3)\n",
            "Requirement already satisfied: wasabi<1.1.0,>=0.9.1 in /usr/local/lib/python3.7/dist-packages (from spacy>=2.0.18->fastai==1.0.61) (0.10.1)\n",
            "Requirement already satisfied: zipp>=0.5 in /usr/local/lib/python3.7/dist-packages (from catalogue<2.1.0,>=2.0.6->spacy>=2.0.18->fastai==1.0.61) (3.10.0)\n",
            "Requirement already satisfied: pyparsing!=3.0.5,>=2.0.2 in /usr/local/lib/python3.7/dist-packages (from packaging->fastai==1.0.61) (3.0.9)\n",
            "Requirement already satisfied: smart-open<6.0.0,>=5.2.1 in /usr/local/lib/python3.7/dist-packages (from pathy>=0.3.5->spacy>=2.0.18->fastai==1.0.61) (5.2.1)\n",
            "Requirement already satisfied: chardet<4,>=3.0.2 in /usr/local/lib/python3.7/dist-packages (from requests->fastai==1.0.61) (3.0.4)\n",
            "Requirement already satisfied: certifi>=2017.4.17 in /usr/local/lib/python3.7/dist-packages (from requests->fastai==1.0.61) (2022.9.24)\n",
            "Requirement already satisfied: urllib3!=1.25.0,!=1.25.1,<1.26,>=1.21.1 in /usr/local/lib/python3.7/dist-packages (from requests->fastai==1.0.61) (1.24.3)\n",
            "Requirement already satisfied: idna<3,>=2.5 in /usr/local/lib/python3.7/dist-packages (from requests->fastai==1.0.61) (2.10)\n",
            "Requirement already satisfied: confection<1.0.0,>=0.0.1 in /usr/local/lib/python3.7/dist-packages (from thinc<8.2.0,>=8.1.0->spacy>=2.0.18->fastai==1.0.61) (0.0.3)\n",
            "Requirement already satisfied: blis<0.8.0,>=0.7.8 in /usr/local/lib/python3.7/dist-packages (from thinc<8.2.0,>=8.1.0->spacy>=2.0.18->fastai==1.0.61) (0.7.9)\n",
            "Requirement already satisfied: future in /usr/local/lib/python3.7/dist-packages (from torch>=1.0.0->fastai==1.0.61) (0.16.0)\n",
            "Requirement already satisfied: click<9.0.0,>=7.1.1 in /usr/local/lib/python3.7/dist-packages (from typer<0.5.0,>=0.3.0->spacy>=2.0.18->fastai==1.0.61) (7.1.2)\n",
            "Requirement already satisfied: MarkupSafe>=0.23 in /usr/local/lib/python3.7/dist-packages (from jinja2->spacy>=2.0.18->fastai==1.0.61) (2.0.1)\n",
            "Requirement already satisfied: cycler>=0.10 in /usr/local/lib/python3.7/dist-packages (from matplotlib->fastai==1.0.61) (0.11.0)\n",
            "Requirement already satisfied: kiwisolver>=1.0.1 in /usr/local/lib/python3.7/dist-packages (from matplotlib->fastai==1.0.61) (1.4.4)\n",
            "Requirement already satisfied: python-dateutil>=2.1 in /usr/local/lib/python3.7/dist-packages (from matplotlib->fastai==1.0.61) (2.8.2)\n",
            "Requirement already satisfied: six>=1.5 in /usr/local/lib/python3.7/dist-packages (from python-dateutil>=2.1->matplotlib->fastai==1.0.61) (1.15.0)\n",
            "Requirement already satisfied: pytz>=2017.3 in /usr/local/lib/python3.7/dist-packages (from pandas->fastai==1.0.61) (2022.5)\n"
          ]
        }
      ]
    },
    {
      "cell_type": "code",
      "source": [
        "!python -m prlab.cli k_fold --json_conf config/raf-db.json "
      ],
      "metadata": {
        "id": "q718shCjlsI_",
        "colab": {
          "base_uri": "https://localhost:8080/"
        },
        "outputId": "d1a55133-d9b1-429c-8ea8-c0e2fb9c21b9"
      },
      "execution_count": 7,
      "outputs": [
        {
          "output_type": "stream",
          "name": "stdout",
          "text": [
            "I am about to invoke k_fold\n",
            "run ID run-00\n",
            "final configure {'fold': 1, 'run': 'psr', 'call': 'prlab.common.dl.pipeline_control_multi', 'path': 'data/raf-db', 'model_path': 'models/raf-db', 'csv_path': 'data/raf-db/raf-db-meta.csv', 'data_helper': 'psr.data_funcs.RafDBDataHelperDis', 'process_pipeline_0': ['prlab.fastai.pipeline.device_setup', 'prlab.fastai.utils.general_configure'], 'process_pipeline_1': ['prlab.fastai.pipeline.exchange_fc'], 'process_pipeline_5': ['prlab.fastai.pipeline.data_load_folder_df', 'prlab.fastai.pipeline.create_obj_model', 'prlab.fastai.pipeline.learn_general_setup', 'prlab.fastai.pipeline.resume_learner'], 'process_pipeline_10': ['prlab.fastai.pipeline.training_adam_sgd'], 'process_pipeline_20': ['prlab.fastai.pipeline.make_report_cls'], 'process_pipeline_50': ['prlab.fastai.pipeline.fold_after'], 'img_size': 100, 'bs': 32, 'max_rotate': 15.0, 'max_zoom': 1.1, 'n_classes': 7, 'epochs': 30, 'epochs_2': 20, 'k_start': 1, 'k': 5, 'metrics': ['prlab.torch.functions.prob_weights_acc'], 'loss_func': 'prlab.fastai.utils.NormWeightsLoss', 'second_loss_fn': ['object', 'prlab.fastai.utils.LabelSmoothingLossDis', {'reduction': 'none', 'alpha': 0.8, 'note': 'use with RAW because it inside of main loss'}], 'multiples': [1, 2, 1], 'lr': [1e-05, 0.005, 0.001], 'base_arch': 'vgg16_bn', 'model_class': 'psr.pyramid_sr.PyramidShare', 'srnet_c': 'outside.super_resolution.edsr.EDSR', 'note_here_sep_pos': 'for base vgg16_bn, sep_pos should be 3, 6, 10, 14, 17, 20, 24, 27, 30, 34, 37', 'sep_pos': 24, 'note_here_1': 'below 2 line, and process exchange_fc to exchange fc from ferplus label to affectnet', 'base_weights_path': 'models/ferplus/vgg16_bn_quick_3size_e20/final.w', 'new_pos': [4, 5, 6, 1, 0, 3, 2], 'weights_path_edsr_nu': 'models/super_resolution/edsr_baseline_x2-1bc95232.pt', 'weight_path_x2': 'models/super_resolution/edsr_baseline_x2-1bc95232.pt', 'json_conf': 'config/raf-db.json', 'run_id': 'run-00'}\n",
            "run 5 folds\n",
            "run in NormWeightsLoss\n",
            "use second loss LabelSmoothingLossDis()\n",
            "Do the FC exchange for label order change\n",
            "new order [4, 5, 6, 1, 0, 3, 2]\n",
            "Load data done for train ImageDataBunch;\n",
            "\n",
            "Train: LabelList (9112 items)\n",
            "x: ImageList\n",
            "Image (3, 100, 100),Image (3, 100, 100),Image (3, 100, 100),Image (3, 100, 100),Image (3, 100, 100)\n",
            "y: FloatList\n",
            "[0.740551 0.034938 0.023251 0.02535  0.074781 0.031924 0.060215],[0.022808 0.011237 0.015923 0.013292 0.170124 0.747902 0.008632],[0.014319 0.003015 0.088513 0.035775 0.058354 0.01037  0.787254],[0.014319 0.003015 0.088513 0.035775 0.058354 0.01037  0.787254],[0.014319 0.003015 0.088513 0.035775 0.058354 0.01037  0.787254]\n",
            "Path: data/raf-db/aligned;\n",
            "\n",
            "Valid: LabelList (3159 items)\n",
            "x: ImageList\n",
            "Image (3, 100, 100),Image (3, 100, 100),Image (3, 100, 100),Image (3, 100, 100),Image (3, 100, 100)\n",
            "y: FloatList\n",
            "[0.004217 0.001969 0.001755 0.917618 0.042842 0.004816 0.023221],[0.022808 0.011237 0.015923 0.013292 0.170124 0.747902 0.008632],[0.022808 0.011237 0.015923 0.013292 0.170124 0.747902 0.008632],[0.014319 0.003015 0.088513 0.035775 0.058354 0.01037  0.787254],[0.022808 0.011237 0.015923 0.013292 0.170124 0.747902 0.008632]\n",
            "Path: data/raf-db/aligned;\n",
            "\n",
            "Test: None\n",
            "Load data done for test ImageDataBunch;\n",
            "\n",
            "Train: LabelList (12271 items)\n",
            "x: ImageList\n",
            "Image (3, 100, 100),Image (3, 100, 100),Image (3, 100, 100),Image (3, 100, 100),Image (3, 100, 100)\n",
            "y: FloatList\n",
            "[0.740551 0.034938 0.023251 0.02535  0.074781 0.031924 0.060215],[0.022808 0.011237 0.015923 0.013292 0.170124 0.747902 0.008632],[0.014319 0.003015 0.088513 0.035775 0.058354 0.01037  0.787254],[0.014319 0.003015 0.088513 0.035775 0.058354 0.01037  0.787254],[0.014319 0.003015 0.088513 0.035775 0.058354 0.01037  0.787254]\n",
            "Path: data/raf-db/aligned;\n",
            "\n",
            "Valid: LabelList (3068 items)\n",
            "x: ImageList\n",
            "Image (3, 100, 100),Image (3, 100, 100),Image (3, 100, 100),Image (3, 100, 100),Image (3, 100, 100)\n",
            "y: FloatList\n",
            "[0.004217 0.001969 0.001755 0.917618 0.042842 0.004816 0.023221],[0.004217 0.001969 0.001755 0.917618 0.042842 0.004816 0.023221],[0.022808 0.011237 0.015923 0.013292 0.170124 0.747902 0.008632],[0.004217 0.001969 0.001755 0.917618 0.042842 0.004816 0.023221],[0.022808 0.011237 0.015923 0.013292 0.170124 0.747902 0.008632]\n",
            "Path: data/raf-db/aligned;\n",
            "\n",
            "Test: None\n",
            "load weights from  /tmp/vgg16_bn.w <All keys matched successfully>\n",
            "resume step\n",
            "<IPython.core.display.HTML object>\n",
            "<IPython.core.display.HTML object>\n",
            "Traceback (most recent call last):\n",
            "  File \"/usr/lib/python3.7/runpy.py\", line 193, in _run_module_as_main\n",
            "    \"__main__\", mod_spec)\n",
            "  File \"/usr/lib/python3.7/runpy.py\", line 85, in _run_code\n",
            "    exec(code, run_globals)\n",
            "  File \"/usr/local/lib/python3.7/dist-packages/prlab/cli.py\", line 28, in <module>\n",
            "    cli()\n",
            "  File \"/usr/local/lib/python3.7/dist-packages/click/core.py\", line 829, in __call__\n",
            "    return self.main(*args, **kwargs)\n",
            "  File \"/usr/local/lib/python3.7/dist-packages/click/core.py\", line 782, in main\n",
            "    rv = self.invoke(ctx)\n",
            "  File \"/usr/local/lib/python3.7/dist-packages/click/core.py\", line 1259, in invoke\n",
            "    return _process_result(sub_ctx.command.invoke(sub_ctx))\n",
            "  File \"/usr/local/lib/python3.7/dist-packages/click/core.py\", line 1066, in invoke\n",
            "    return ctx.invoke(self.callback, **ctx.params)\n",
            "  File \"/usr/local/lib/python3.7/dist-packages/click/core.py\", line 610, in invoke\n",
            "    return callback(*args, **kwargs)\n",
            "  File \"/usr/local/lib/python3.7/dist-packages/click/decorators.py\", line 21, in new_func\n",
            "    return f(get_current_context(), *args, **kwargs)\n",
            "  File \"/usr/local/lib/python3.7/dist-packages/prlab/common/utils.py\", line 629, in run_k_fold\n",
            "    out.append(fn(**config))\n",
            "  File \"/usr/local/lib/python3.7/dist-packages/prlab/common/dl.py\", line 50, in pipeline_control_multi\n",
            "    config = fn(**config)\n",
            "  File \"/usr/local/lib/python3.7/dist-packages/prlab/fastai/pipeline.py\", line 589, in training_adam_sgd\n",
            "    learn.fit_one_cycle(epochs, max_lr=lr)\n",
            "  File \"/usr/local/lib/python3.7/dist-packages/fastai/train.py\", line 23, in fit_one_cycle\n",
            "    learn.fit(cyc_len, max_lr, wd=wd, callbacks=callbacks)\n",
            "  File \"/usr/local/lib/python3.7/dist-packages/fastai/basic_train.py\", line 200, in fit\n",
            "    fit(epochs, self, metrics=self.metrics, callbacks=self.callbacks+callbacks)\n",
            "  File \"/usr/local/lib/python3.7/dist-packages/fastai/basic_train.py\", line 99, in fit\n",
            "    for xb,yb in progress_bar(learn.data.train_dl, parent=pbar):\n",
            "  File \"/usr/local/lib/python3.7/dist-packages/fastprogress/fastprogress.py\", line 39, in __iter__\n",
            "    if self.total != 0: self.update(0)\n",
            "  File \"/usr/local/lib/python3.7/dist-packages/fastprogress/fastprogress.py\", line 59, in update\n",
            "    self.update_bar(0)\n",
            "  File \"/usr/local/lib/python3.7/dist-packages/fastprogress/fastprogress.py\", line 81, in update_bar\n",
            "    self.on_update(val, f'{pct}[{val}/{tot} {elapsed_t}{self.lt}{remaining_t}{end}]')\n",
            "  File \"/usr/local/lib/python3.7/dist-packages/fastprogress/fastprogress.py\", line 134, in on_update\n",
            "    elif self.parent is not None: self.parent.show()\n",
            "  File \"/usr/local/lib/python3.7/dist-packages/fastprogress/fastprogress.py\", line 177, in show\n",
            "    self.out.update(HTML(self.html_code))\n",
            "AttributeError: 'NoneType' object has no attribute 'update'\n"
          ]
        }
      ]
    },
    {
      "cell_type": "code",
      "source": [
        "from google.colab import drive\n",
        "drive.mount('/content/drive')"
      ],
      "metadata": {
        "id": "vMP_ySCcFUxs"
      },
      "execution_count": null,
      "outputs": []
    },
    {
      "cell_type": "code",
      "source": [
        "!python -m prlab.cli run --json_conf config/ferplus-psr-edsr-x2.json"
      ],
      "metadata": {
        "id": "s_cyEjKS7R_q"
      },
      "execution_count": null,
      "outputs": []
    }
  ]
}