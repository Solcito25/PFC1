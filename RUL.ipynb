{
  "nbformat": 4,
  "nbformat_minor": 0,
  "metadata": {
    "colab": {
      "provenance": [],
      "authorship_tag": "ABX9TyNYpBpZLffIBvhETS2V4Elq",
      "include_colab_link": true
    },
    "kernelspec": {
      "name": "python3",
      "display_name": "Python 3"
    },
    "language_info": {
      "name": "python"
    },
    "accelerator": "GPU",
    "gpuClass": "standard"
  },
  "cells": [
    {
      "cell_type": "markdown",
      "metadata": {
        "id": "view-in-github",
        "colab_type": "text"
      },
      "source": [
        "<a href=\"https://colab.research.google.com/github/Solcito25/PFC1/blob/main/RUL.ipynb\" target=\"_parent\"><img src=\"https://colab.research.google.com/assets/colab-badge.svg\" alt=\"Open In Colab\"/></a>"
      ]
    },
    {
      "cell_type": "code",
      "execution_count": 1,
      "metadata": {
        "colab": {
          "base_uri": "https://localhost:8080/"
        },
        "id": "4kzklsRvwh0g",
        "outputId": "a8db5a17-0f38-4329-d3cc-816eff6b14bc"
      },
      "outputs": [
        {
          "output_type": "stream",
          "name": "stdout",
          "text": [
            "Mounted at /content/gdrive\n"
          ]
        }
      ],
      "source": [
        "from google.colab import drive\n",
        "drive.mount(\"/content/gdrive\")"
      ]
    },
    {
      "cell_type": "code",
      "source": [
        "%cd /content/gdrive/MyDrive/relative-uncertainty-learning/"
      ],
      "metadata": {
        "colab": {
          "base_uri": "https://localhost:8080/"
        },
        "id": "asDYKkWjwuWX",
        "outputId": "53a0e832-9821-40f2-f76a-eb3e172837e8"
      },
      "execution_count": 2,
      "outputs": [
        {
          "output_type": "stream",
          "name": "stdout",
          "text": [
            "/content/gdrive/MyDrive/relative-uncertainty-learning\n"
          ]
        }
      ]
    },
    {
      "cell_type": "code",
      "source": [
        "!pip install torch==1.8.0+cu111 torchvision==0.9.0+cu111 torchaudio==0.8.0 -f https://download.pytorch.org/whl/torch_stable.html"
      ],
      "metadata": {
        "colab": {
          "base_uri": "https://localhost:8080/"
        },
        "id": "LQYn2N7ExLU4",
        "outputId": "a45aae85-79eb-4d70-e5f5-a347aba65b95"
      },
      "execution_count": 3,
      "outputs": [
        {
          "output_type": "stream",
          "name": "stdout",
          "text": [
            "Looking in indexes: https://pypi.org/simple, https://us-python.pkg.dev/colab-wheels/public/simple/\n",
            "Looking in links: https://download.pytorch.org/whl/torch_stable.html\n",
            "Collecting torch==1.8.0+cu111\n",
            "  Downloading https://download.pytorch.org/whl/cu111/torch-1.8.0%2Bcu111-cp37-cp37m-linux_x86_64.whl (1982.2 MB)\n",
            "\u001b[K     |█████████████▌                  | 834.1 MB 1.3 MB/s eta 0:14:54tcmalloc: large alloc 1147494400 bytes == 0x39f0e000 @  0x7f021da23615 0x58ead6 0x4f355e 0x4d222f 0x51041f 0x5b4ee6 0x58ff2e 0x510325 0x5b4ee6 0x58ff2e 0x50d482 0x4d00fb 0x50cb8d 0x4d00fb 0x50cb8d 0x4d00fb 0x50cb8d 0x4bac0a 0x538a76 0x590ae5 0x510280 0x5b4ee6 0x58ff2e 0x50d482 0x5b4ee6 0x58ff2e 0x50c4fc 0x58fd37 0x50ca37 0x5b4ee6 0x58ff2e\n",
            "\u001b[K     |█████████████████               | 1055.7 MB 1.3 MB/s eta 0:11:45tcmalloc: large alloc 1434370048 bytes == 0x7e564000 @  0x7f021da23615 0x58ead6 0x4f355e 0x4d222f 0x51041f 0x5b4ee6 0x58ff2e 0x510325 0x5b4ee6 0x58ff2e 0x50d482 0x4d00fb 0x50cb8d 0x4d00fb 0x50cb8d 0x4d00fb 0x50cb8d 0x4bac0a 0x538a76 0x590ae5 0x510280 0x5b4ee6 0x58ff2e 0x50d482 0x5b4ee6 0x58ff2e 0x50c4fc 0x58fd37 0x50ca37 0x5b4ee6 0x58ff2e\n",
            "\u001b[K     |█████████████████████▋          | 1336.2 MB 1.3 MB/s eta 0:08:13tcmalloc: large alloc 1792966656 bytes == 0x3396000 @  0x7f021da23615 0x58ead6 0x4f355e 0x4d222f 0x51041f 0x5b4ee6 0x58ff2e 0x510325 0x5b4ee6 0x58ff2e 0x50d482 0x4d00fb 0x50cb8d 0x4d00fb 0x50cb8d 0x4d00fb 0x50cb8d 0x4bac0a 0x538a76 0x590ae5 0x510280 0x5b4ee6 0x58ff2e 0x50d482 0x5b4ee6 0x58ff2e 0x50c4fc 0x58fd37 0x50ca37 0x5b4ee6 0x58ff2e\n",
            "\u001b[K     |███████████████████████████▎    | 1691.1 MB 1.2 MB/s eta 0:04:00tcmalloc: large alloc 2241208320 bytes == 0x6e17e000 @  0x7f021da23615 0x58ead6 0x4f355e 0x4d222f 0x51041f 0x5b4ee6 0x58ff2e 0x510325 0x5b4ee6 0x58ff2e 0x50d482 0x4d00fb 0x50cb8d 0x4d00fb 0x50cb8d 0x4d00fb 0x50cb8d 0x4bac0a 0x538a76 0x590ae5 0x510280 0x5b4ee6 0x58ff2e 0x50d482 0x5b4ee6 0x58ff2e 0x50c4fc 0x58fd37 0x50ca37 0x5b4ee6 0x58ff2e\n",
            "\u001b[K     |████████████████████████████████| 1982.2 MB 1.2 MB/s eta 0:00:01tcmalloc: large alloc 1982251008 bytes == 0xf3ae0000 @  0x7f021da221e7 0x4b2590 0x4b261c 0x58ead6 0x4f355e 0x4d222f 0x51041f 0x5b4ee6 0x58ff2e 0x50ca37 0x5b4ee6 0x58ff2e 0x50ca37 0x5b4ee6 0x58ff2e 0x50ca37 0x5b4ee6 0x58ff2e 0x50ca37 0x5b4ee6 0x58ff2e 0x50ca37 0x58fd37 0x50ca37 0x5b4ee6 0x58ff2e 0x50d482 0x5b4ee6 0x58ff2e 0x50d482 0x5b4ee6\n",
            "tcmalloc: large alloc 2477817856 bytes == 0x1de208000 @  0x7f021da23615 0x58ead6 0x4f355e 0x4d222f 0x51041f 0x5b4ee6 0x58ff2e 0x50ca37 0x5b4ee6 0x58ff2e 0x50ca37 0x5b4ee6 0x58ff2e 0x50ca37 0x5b4ee6 0x58ff2e 0x50ca37 0x5b4ee6 0x58ff2e 0x50ca37 0x58fd37 0x50ca37 0x5b4ee6 0x58ff2e 0x50d482 0x5b4ee6 0x58ff2e 0x50d482 0x5b4ee6 0x4bad99 0x4d3249\n",
            "\u001b[K     |████████████████████████████████| 1982.2 MB 5.3 kB/s \n",
            "\u001b[?25hCollecting torchvision==0.9.0+cu111\n",
            "  Downloading https://download.pytorch.org/whl/cu111/torchvision-0.9.0%2Bcu111-cp37-cp37m-linux_x86_64.whl (17.6 MB)\n",
            "\u001b[K     |████████████████████████████████| 17.6 MB 46 kB/s \n",
            "\u001b[?25hCollecting torchaudio==0.8.0\n",
            "  Downloading torchaudio-0.8.0-cp37-cp37m-manylinux1_x86_64.whl (1.9 MB)\n",
            "\u001b[K     |████████████████████████████████| 1.9 MB 11.5 MB/s \n",
            "\u001b[?25hRequirement already satisfied: numpy in /usr/local/lib/python3.7/dist-packages (from torch==1.8.0+cu111) (1.21.6)\n",
            "Requirement already satisfied: typing-extensions in /usr/local/lib/python3.7/dist-packages (from torch==1.8.0+cu111) (4.1.1)\n",
            "Requirement already satisfied: pillow>=4.1.1 in /usr/local/lib/python3.7/dist-packages (from torchvision==0.9.0+cu111) (7.1.2)\n",
            "Installing collected packages: torch, torchvision, torchaudio\n",
            "  Attempting uninstall: torch\n",
            "    Found existing installation: torch 1.12.1+cu113\n",
            "    Uninstalling torch-1.12.1+cu113:\n",
            "      Successfully uninstalled torch-1.12.1+cu113\n",
            "  Attempting uninstall: torchvision\n",
            "    Found existing installation: torchvision 0.13.1+cu113\n",
            "    Uninstalling torchvision-0.13.1+cu113:\n",
            "      Successfully uninstalled torchvision-0.13.1+cu113\n",
            "  Attempting uninstall: torchaudio\n",
            "    Found existing installation: torchaudio 0.12.1+cu113\n",
            "    Uninstalling torchaudio-0.12.1+cu113:\n",
            "      Successfully uninstalled torchaudio-0.12.1+cu113\n",
            "\u001b[31mERROR: pip's dependency resolver does not currently take into account all the packages that are installed. This behaviour is the source of the following dependency conflicts.\n",
            "torchtext 0.13.1 requires torch==1.12.1, but you have torch 1.8.0+cu111 which is incompatible.\u001b[0m\n",
            "Successfully installed torch-1.8.0+cu111 torchaudio-0.8.0 torchvision-0.9.0+cu111\n"
          ]
        }
      ]
    },
    {
      "cell_type": "code",
      "source": [
        "%cd /content/gdrive/MyDrive/relative-uncertainty-learning/src/\n",
        "!python main.py --raf_path '../dataset/raf-basic' --label_path '../dataset/raf-basic/EmoLabel/list_patition_label.txt' --pretrained_backbone_path '../pretrained_model/resnet18_msceleb.pth'"
      ],
      "metadata": {
        "colab": {
          "base_uri": "https://localhost:8080/"
        },
        "id": "IKMkXosix81J",
        "outputId": "2db6a967-7245-4453-8451-5df667d44d58"
      },
      "execution_count": 4,
      "outputs": [
        {
          "output_type": "stream",
          "name": "stdout",
          "text": [
            "/content/gdrive/MyDrive/relative-uncertainty-learning/src\n",
            "/usr/local/lib/python3.7/dist-packages/torch/utils/data/dataloader.py:477: UserWarning: This DataLoader will create 4 worker processes in total. Our suggested max number of worker in current system is 2, which is smaller than what this DataLoader is going to create. Please be aware that excessive worker creation might get DataLoader running slow or even freeze, lower the worker number to avoid potential slowness/freeze if necessary.\n",
            "  cpuset_checked))\n",
            "Epoch : 1, train_acc : 0.5213, train_loss: 1.3413\n",
            "Epoch : 1, test_acc : 0.8002, test_loss: 0.6329\n",
            "Epoch : 2, train_acc : 0.5656, train_loss: 1.1007\n",
            "Epoch : 2, test_acc : 0.8507, test_loss: 0.4978\n",
            "Epoch : 3, train_acc : 0.5775, train_loss: 1.0017\n",
            "Epoch : 3, test_acc : 0.8628, test_loss: 0.4295\n",
            "Epoch : 4, train_acc : 0.6006, train_loss: 0.9184\n",
            "Epoch : 4, test_acc : 0.8680, test_loss: 0.4049\n",
            "Epoch : 5, train_acc : 0.6000, train_loss: 0.8616\n",
            "Epoch : 5, test_acc : 0.8654, test_loss: 0.4307\n",
            "Epoch : 6, train_acc : 0.6099, train_loss: 0.8127\n",
            "Epoch : 6, test_acc : 0.8696, test_loss: 0.4290\n",
            "Epoch : 7, train_acc : 0.6093, train_loss: 0.7844\n",
            "Epoch : 7, test_acc : 0.8752, test_loss: 0.4230\n",
            "Epoch : 8, train_acc : 0.6214, train_loss: 0.7447\n",
            "Epoch : 8, test_acc : 0.8742, test_loss: 0.4228\n",
            "Epoch : 9, train_acc : 0.6098, train_loss: 0.7220\n",
            "Epoch : 9, test_acc : 0.8781, test_loss: 0.4230\n",
            "Epoch : 10, train_acc : 0.6224, train_loss: 0.7054\n",
            "Epoch : 10, test_acc : 0.8840, test_loss: 0.4164\n",
            "Epoch : 11, train_acc : 0.6214, train_loss: 0.6833\n",
            "Epoch : 11, test_acc : 0.8768, test_loss: 0.4395\n",
            "Epoch : 12, train_acc : 0.6219, train_loss: 0.6748\n",
            "Epoch : 12, test_acc : 0.8820, test_loss: 0.4277\n",
            "Epoch : 13, train_acc : 0.6279, train_loss: 0.6630\n",
            "Epoch : 13, test_acc : 0.8827, test_loss: 0.4282\n",
            "Epoch : 14, train_acc : 0.6225, train_loss: 0.6623\n",
            "Epoch : 14, test_acc : 0.8787, test_loss: 0.4315\n",
            "Epoch : 15, train_acc : 0.6211, train_loss: 0.6552\n",
            "Epoch : 15, test_acc : 0.8820, test_loss: 0.4264\n",
            "Epoch : 16, train_acc : 0.6244, train_loss: 0.6467\n",
            "Epoch : 16, test_acc : 0.8856, test_loss: 0.4261\n",
            "Epoch : 17, train_acc : 0.6204, train_loss: 0.6364\n",
            "Epoch : 17, test_acc : 0.8833, test_loss: 0.4249\n",
            "Epoch : 18, train_acc : 0.6202, train_loss: 0.6342\n",
            "Epoch : 18, test_acc : 0.8804, test_loss: 0.4299\n",
            "Epoch : 19, train_acc : 0.6220, train_loss: 0.6312\n",
            "Epoch : 19, test_acc : 0.8827, test_loss: 0.4263\n",
            "Epoch : 20, train_acc : 0.6236, train_loss: 0.6297\n",
            "Epoch : 20, test_acc : 0.8804, test_loss: 0.4241\n",
            "Epoch : 21, train_acc : 0.6220, train_loss: 0.6242\n",
            "Epoch : 21, test_acc : 0.8849, test_loss: 0.4225\n",
            "Epoch : 22, train_acc : 0.6272, train_loss: 0.6214\n",
            "Epoch : 22, test_acc : 0.8853, test_loss: 0.4240\n",
            "Epoch : 23, train_acc : 0.6244, train_loss: 0.6148\n",
            "Epoch : 23, test_acc : 0.8849, test_loss: 0.4229\n",
            "Epoch : 24, train_acc : 0.6189, train_loss: 0.6160\n",
            "Epoch : 24, test_acc : 0.8853, test_loss: 0.4322\n",
            "Epoch : 25, train_acc : 0.6271, train_loss: 0.6142\n",
            "Epoch : 25, test_acc : 0.8869, test_loss: 0.4233\n",
            "Epoch : 26, train_acc : 0.6223, train_loss: 0.6132\n",
            "Epoch : 26, test_acc : 0.8849, test_loss: 0.4311\n",
            "Epoch : 27, train_acc : 0.6243, train_loss: 0.6095\n",
            "Epoch : 27, test_acc : 0.8859, test_loss: 0.4260\n",
            "Epoch : 28, train_acc : 0.6276, train_loss: 0.6079\n",
            "Epoch : 28, test_acc : 0.8830, test_loss: 0.4323\n",
            "Epoch : 29, train_acc : 0.6240, train_loss: 0.6121\n",
            "Epoch : 29, test_acc : 0.8833, test_loss: 0.4312\n",
            "Epoch : 30, train_acc : 0.6220, train_loss: 0.6112\n",
            "Epoch : 30, test_acc : 0.8859, test_loss: 0.4265\n",
            "Epoch : 31, train_acc : 0.6238, train_loss: 0.6118\n",
            "Epoch : 31, test_acc : 0.8820, test_loss: 0.4284\n",
            "Epoch : 32, train_acc : 0.6211, train_loss: 0.6082\n",
            "Epoch : 32, test_acc : 0.8836, test_loss: 0.4259\n",
            "Epoch : 33, train_acc : 0.6294, train_loss: 0.6070\n",
            "Epoch : 33, test_acc : 0.8856, test_loss: 0.4285\n",
            "Epoch : 34, train_acc : 0.6231, train_loss: 0.6042\n",
            "Epoch : 34, test_acc : 0.8814, test_loss: 0.4308\n",
            "Epoch : 35, train_acc : 0.6216, train_loss: 0.6017\n",
            "Epoch : 35, test_acc : 0.8856, test_loss: 0.4366\n",
            "Epoch : 36, train_acc : 0.6212, train_loss: 0.6013\n",
            "Epoch : 36, test_acc : 0.8814, test_loss: 0.4300\n",
            "Epoch : 37, train_acc : 0.6251, train_loss: 0.6005\n",
            "Epoch : 37, test_acc : 0.8849, test_loss: 0.4351\n",
            "Epoch : 38, train_acc : 0.6233, train_loss: 0.6052\n",
            "Epoch : 38, test_acc : 0.8836, test_loss: 0.4287\n",
            "Epoch : 39, train_acc : 0.6225, train_loss: 0.6006\n",
            "Epoch : 39, test_acc : 0.8823, test_loss: 0.4276\n",
            "Epoch : 40, train_acc : 0.6198, train_loss: 0.6036\n",
            "Epoch : 40, test_acc : 0.8856, test_loss: 0.4321\n",
            "Epoch : 41, train_acc : 0.6268, train_loss: 0.6002\n",
            "Epoch : 41, test_acc : 0.8814, test_loss: 0.4318\n",
            "Epoch : 42, train_acc : 0.6230, train_loss: 0.6000\n",
            "Epoch : 42, test_acc : 0.8853, test_loss: 0.4285\n",
            "Epoch : 43, train_acc : 0.6240, train_loss: 0.6014\n",
            "Epoch : 43, test_acc : 0.8833, test_loss: 0.4372\n",
            "Epoch : 44, train_acc : 0.6266, train_loss: 0.5939\n",
            "Epoch : 44, test_acc : 0.8830, test_loss: 0.4303\n",
            "Epoch : 45, train_acc : 0.6256, train_loss: 0.5963\n",
            "Epoch : 45, test_acc : 0.8833, test_loss: 0.4336\n",
            "Epoch : 46, train_acc : 0.6211, train_loss: 0.5976\n",
            "Epoch : 46, test_acc : 0.8823, test_loss: 0.4332\n",
            "Epoch : 47, train_acc : 0.6220, train_loss: 0.6044\n",
            "Epoch : 47, test_acc : 0.8859, test_loss: 0.4304\n",
            "Epoch : 48, train_acc : 0.6231, train_loss: 0.6012\n",
            "Epoch : 48, test_acc : 0.8823, test_loss: 0.4302\n",
            "Epoch : 49, train_acc : 0.6188, train_loss: 0.5994\n",
            "Epoch : 49, test_acc : 0.8817, test_loss: 0.4311\n",
            "Epoch : 50, train_acc : 0.6188, train_loss: 0.5992\n",
            "Epoch : 50, test_acc : 0.8810, test_loss: 0.4324\n",
            "Epoch : 51, train_acc : 0.6240, train_loss: 0.5999\n",
            "Epoch : 51, test_acc : 0.8859, test_loss: 0.4238\n",
            "Epoch : 52, train_acc : 0.6245, train_loss: 0.5970\n",
            "Epoch : 52, test_acc : 0.8830, test_loss: 0.4285\n",
            "Epoch : 53, train_acc : 0.6256, train_loss: 0.5971\n",
            "Epoch : 53, test_acc : 0.8833, test_loss: 0.4305\n",
            "Epoch : 54, train_acc : 0.6220, train_loss: 0.5956\n",
            "Epoch : 54, test_acc : 0.8853, test_loss: 0.4278\n",
            "Epoch : 55, train_acc : 0.6244, train_loss: 0.5970\n",
            "Epoch : 55, test_acc : 0.8866, test_loss: 0.4334\n",
            "Epoch : 56, train_acc : 0.6253, train_loss: 0.6002\n",
            "Epoch : 56, test_acc : 0.8859, test_loss: 0.4305\n",
            "Epoch : 57, train_acc : 0.6225, train_loss: 0.5999\n",
            "Epoch : 57, test_acc : 0.8823, test_loss: 0.4336\n",
            "Epoch : 58, train_acc : 0.6274, train_loss: 0.5945\n",
            "Epoch : 58, test_acc : 0.8846, test_loss: 0.4321\n",
            "Epoch : 59, train_acc : 0.6215, train_loss: 0.5972\n",
            "Epoch : 59, test_acc : 0.8810, test_loss: 0.4283\n",
            "Epoch : 60, train_acc : 0.6242, train_loss: 0.6034\n",
            "Epoch : 60, test_acc : 0.8859, test_loss: 0.4302\n",
            "best acc:  tensor(0.8869, device='cuda:0') best epoch:  25\n"
          ]
        }
      ]
    }
  ]
}